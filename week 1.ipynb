{
 "cells": [
  {
   "cell_type": "code",
   "execution_count": 1,
   "id": "6b2cb059-1cad-4ced-bba9-596e0d9dffa0",
   "metadata": {},
   "outputs": [],
   "source": [
    "#Answer 1:\n",
    "#(i)\n",
    "name = \"divyansh\"\n",
    "#(ii)\n",
    "div = [1,2,3.4,'c',\"graft\"]\n",
    "#(iii)\n",
    "decimal = 4.5\n",
    "#(iv)\n",
    "tuple = (34,46,\"cherry\")"
   ]
  },
  {
   "cell_type": "code",
   "execution_count": 2,
   "id": "7e48222d-15be-40f5-833c-bb21ea861f59",
   "metadata": {},
   "outputs": [],
   "source": [
    "#Anser 2: (i)- string (ii)- string (iii)- list (iv)- integer"
   ]
  },
  {
   "cell_type": "code",
   "execution_count": 3,
   "id": "bde796ed-4237-4760-bd2e-fa5a45807a3a",
   "metadata": {},
   "outputs": [],
   "source": [
    "#Answer 3: (i)- the operator '/' is used perform arithmetical aperation of divison by completly dividing the numbers including decimal. EX- 21/4 = 5.25\n",
    "#(ii)- the operator '%' is used to gain the remender of the two numbers. EX - 21%4 = 1\n",
    "#(iii)- the operator '//' is used perform arithmetical aperation of divison by completly dividing the numbers without the use decimal. EX - 21/4 = 5\n",
    "#(iv)- the operator '**' is used perform arithmetical aperation of multiplication by mul;tiplying the number by itself acording to the power given. 21**4 = 194481"
   ]
  },
  {
   "cell_type": "code",
   "execution_count": 2,
   "id": "5da592f2-c442-4054-8313-e53b2083f6cd",
   "metadata": {},
   "outputs": [
    {
     "name": "stdout",
     "output_type": "stream",
     "text": [
      "Element: 1, Type: <class 'int'>\n",
      "Element: hello, Type: <class 'str'>\n",
      "Element: 3.14, Type: <class 'float'>\n",
      "Element: True, Type: <class 'bool'>\n",
      "Element: [1, 2, 3], Type: <class 'list'>\n",
      "Element: (4, 5, 6), Type: <class 'tuple'>\n",
      "Element: {'key': 'value'}, Type: <class 'dict'>\n",
      "Element: None, Type: <class 'NoneType'>\n",
      "Element: 5.5, Type: <class 'float'>\n",
      "Element: 10, Type: <class 'int'>\n"
     ]
    }
   ],
   "source": [
    "#Answer 4:\n",
    "my_list = [1, \"hello\", 3.14, True, [1, 2, 3], (4, 5, 6), {\"key\": \"value\"}, None, 5.5, 10]\n",
    "\n",
    "for element in my_list:\n",
    "    print(f'Element: {element}, Type: {type(element)}')\n"
   ]
  },
  {
   "cell_type": "code",
   "execution_count": 3,
   "id": "c042eec0-1ae6-4a8a-adb7-de70e408f5c0",
   "metadata": {},
   "outputs": [
    {
     "name": "stdout",
     "output_type": "stream",
     "text": [
      "Number of times A is divisible by B: 3\n"
     ]
    }
   ],
   "source": [
    "#Answer 5:\n",
    "A = 64\n",
    "B = 4\n",
    "count = 0\n",
    "\n",
    "while A % B == 0:\n",
    "    A = A // B\n",
    "    count += 1\n",
    "\n",
    "print(f'Number of times A is divisible by B: {count}')\n"
   ]
  },
  {
   "cell_type": "code",
   "execution_count": 4,
   "id": "2077809f-d5fc-4ad0-985c-2ea9ef8c9dcc",
   "metadata": {},
   "outputs": [
    {
     "name": "stdout",
     "output_type": "stream",
     "text": [
      "0 is divisible by 3\n",
      "1 is not divisible by 3\n",
      "2 is not divisible by 3\n",
      "3 is divisible by 3\n",
      "4 is not divisible by 3\n",
      "5 is not divisible by 3\n",
      "6 is divisible by 3\n",
      "7 is not divisible by 3\n",
      "8 is not divisible by 3\n",
      "9 is divisible by 3\n",
      "10 is not divisible by 3\n",
      "11 is not divisible by 3\n",
      "12 is divisible by 3\n",
      "13 is not divisible by 3\n",
      "14 is not divisible by 3\n",
      "15 is divisible by 3\n",
      "16 is not divisible by 3\n",
      "17 is not divisible by 3\n",
      "18 is divisible by 3\n",
      "19 is not divisible by 3\n",
      "20 is not divisible by 3\n",
      "21 is divisible by 3\n",
      "22 is not divisible by 3\n",
      "23 is not divisible by 3\n",
      "24 is divisible by 3\n"
     ]
    }
   ],
   "source": [
    "#Answer 6:\n",
    "int_list = [i for i in range(25)]\n",
    "\n",
    "for num in int_list:\n",
    "    if num % 3 == 0:\n",
    "        print(f'{num} is divisible by 3')\n",
    "    else:\n",
    "        print(f'{num} is not divisible by 3')\n"
   ]
  },
  {
   "cell_type": "code",
   "execution_count": 6,
   "id": "ec1da7ca-0438-45c6-a8ea-c46ebcfdc383",
   "metadata": {},
   "outputs": [],
   "source": [
    "#Answer 7:\n",
    "#Mutable\n",
    "my_list = [1, 2, 3]\n",
    "my_list[0] = 4  # my_list is now [4, 2, 3]"
   ]
  },
  {
   "cell_type": "code",
   "execution_count": 7,
   "id": "27246270-4d63-4221-97bd-4114d28a4827",
   "metadata": {},
   "outputs": [],
   "source": [
    "#immutable:\n",
    "my_string = \"hello\"\n",
    "# my_string[0] = 'H'  # This would raise an error\n",
    "new_string = 'H' + my_string[1:]  # Instead, create a new string"
   ]
  }
 ],
 "metadata": {
  "kernelspec": {
   "display_name": "Python 3 (ipykernel)",
   "language": "python",
   "name": "python3"
  },
  "language_info": {
   "codemirror_mode": {
    "name": "ipython",
    "version": 3
   },
   "file_extension": ".py",
   "mimetype": "text/x-python",
   "name": "python",
   "nbconvert_exporter": "python",
   "pygments_lexer": "ipython3",
   "version": "3.10.8"
  }
 },
 "nbformat": 4,
 "nbformat_minor": 5
}
