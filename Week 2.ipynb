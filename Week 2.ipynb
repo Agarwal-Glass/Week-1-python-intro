{
 "cells": [
  {
   "cell_type": "code",
   "execution_count": 10,
   "id": "c503c28c-8eee-4c64-9270-33fe7d3a26f8",
   "metadata": {},
   "outputs": [
    {
     "name": "stdout",
     "output_type": "stream",
     "text": [
      "10\n",
      "123\n",
      "3.14\n"
     ]
    }
   ],
   "source": [
    "#Ans 1:\n",
    "# This is a single-line comment\n",
    "x = 10  # This is an inline comment\n",
    "print(x)\n",
    "\n",
    "\"\"\"\n",
    "This is a multi-line comment.\n",
    "It can span multiple lines.\n",
    "\"\"\"\n",
    "#Example\n",
    "# Converting data types\n",
    "a = \"123\"\n",
    "b = int(a)\n",
    "print(b)  # Output: 123\n",
    "\n",
    "c = 3.14\n",
    "d = str(c)\n",
    "print(d)  # Output: \"3.14\"\n",
    "\n"
   ]
  },
  {
   "cell_type": "code",
   "execution_count": 11,
   "id": "33aaaf19-678f-43fa-b217-6336f7a0577e",
   "metadata": {},
   "outputs": [],
   "source": [
    "#Ans 2:\n",
    "# Declaring and assigning values to variables\n",
    "x = 10\n",
    "name = \"Alice\"\n",
    "is_student = True\n"
   ]
  },
  {
   "cell_type": "code",
   "execution_count": 12,
   "id": "07df2276-17e5-4e3b-809c-e9f3cf358276",
   "metadata": {},
   "outputs": [],
   "source": [
    "#Ans 3:\n",
    "x = \"123\"\n",
    "y = int(x)  # y is now an integer 123\n",
    "\n",
    "a = 3.14\n",
    "b = str(a)  # b is now the string \"3.14\"\n",
    "\n",
    "c = [1, 2, 3]\n",
    "d = tuple(c)  # d is now the tuple (1, 2, 3)\n"
   ]
  },
  {
   "cell_type": "code",
   "execution_count": 13,
   "id": "a735a62c-25b1-439d-8d57-c998256bf0f4",
   "metadata": {},
   "outputs": [],
   "source": [
    "#Ans 4:\n",
    "#you would typically create a .py file and run it using the command python script.py."
   ]
  },
  {
   "cell_type": "code",
   "execution_count": 14,
   "id": "ce692a42-d691-4f1e-80ad-ce1d8cf18e57",
   "metadata": {},
   "outputs": [
    {
     "name": "stdout",
     "output_type": "stream",
     "text": [
      "[2, 3]\n"
     ]
    }
   ],
   "source": [
    "#Ans 5:\n",
    "my_list = [1, 2, 3, 4, 5]\n",
    "sub_list = my_list[1:3]\n",
    "print(sub_list)  # Output: [2, 3]"
   ]
  },
  {
   "cell_type": "code",
   "execution_count": 16,
   "id": "e290c0ed-20d8-460a-ad79-7ea14259cf93",
   "metadata": {},
   "outputs": [
    {
     "name": "stdout",
     "output_type": "stream",
     "text": [
      "(3+4j)\n",
      "<class 'complex'>\n"
     ]
    }
   ],
   "source": [
    "#Ans 6:\n",
    "#In mathematics, a complex number is a number that has a real part and an imaginary part. In Python, complex numbers are represented with the j suffix for the imaginary part.\n",
    "complex_num = 3 + 4j\n",
    "print(complex_num)  # Output: (3+4j)\n",
    "print(type(complex_num))  # Output: <class 'complex'>"
   ]
  },
  {
   "cell_type": "code",
   "execution_count": 15,
   "id": "f9922566-0b62-44e8-af93-d171e5c87443",
   "metadata": {},
   "outputs": [],
   "source": [
    "#Ans 7:\n",
    "age = 25"
   ]
  },
  {
   "cell_type": "code",
   "execution_count": 17,
   "id": "ac925cf8-74fa-4e56-b7bc-84e36deaa68b",
   "metadata": {},
   "outputs": [
    {
     "name": "stdout",
     "output_type": "stream",
     "text": [
      "<class 'float'>\n"
     ]
    }
   ],
   "source": [
    "#Ans 8:\n",
    "price = 9.99\n",
    "print(type(price))  # Output: <class 'float'>"
   ]
  },
  {
   "cell_type": "code",
   "execution_count": 18,
   "id": "222f62c6-4cc2-4263-8a8c-55c4c7ec2c6b",
   "metadata": {},
   "outputs": [
    {
     "name": "stdout",
     "output_type": "stream",
     "text": [
      "John Doe\n"
     ]
    }
   ],
   "source": [
    "#ans 9:\n",
    "name = \"John Doe\"\n",
    "print(name)  # Output: John Doe"
   ]
  },
  {
   "cell_type": "code",
   "execution_count": 19,
   "id": "bb8e48b3-2d23-40ba-9a87-9b001ccdc671",
   "metadata": {},
   "outputs": [
    {
     "name": "stdout",
     "output_type": "stream",
     "text": [
      "World\n"
     ]
    }
   ],
   "source": [
    "#Ans 10:\n",
    "greeting = \"Hello, World!\"\n",
    "substring = greeting[7:12]\n",
    "print(substring)  # Output: World"
   ]
  },
  {
   "cell_type": "code",
   "execution_count": 20,
   "id": "1428d935-bd3a-4408-84cd-a16d2a802e8b",
   "metadata": {},
   "outputs": [
    {
     "name": "stdout",
     "output_type": "stream",
     "text": [
      "True\n"
     ]
    }
   ],
   "source": [
    "#Ans 11:\n",
    "is_student = True  # or False, depending on your status\n",
    "print(is_student)  # Output: True or False"
   ]
  }
 ],
 "metadata": {
  "kernelspec": {
   "display_name": "Python 3 (ipykernel)",
   "language": "python",
   "name": "python3"
  },
  "language_info": {
   "codemirror_mode": {
    "name": "ipython",
    "version": 3
   },
   "file_extension": ".py",
   "mimetype": "text/x-python",
   "name": "python",
   "nbconvert_exporter": "python",
   "pygments_lexer": "ipython3",
   "version": "3.10.8"
  }
 },
 "nbformat": 4,
 "nbformat_minor": 5
}
